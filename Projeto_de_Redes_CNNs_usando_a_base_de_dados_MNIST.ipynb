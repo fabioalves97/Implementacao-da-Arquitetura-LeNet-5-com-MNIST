{
  "nbformat": 4,
  "nbformat_minor": 0,
  "metadata": {
    "colab": {
      "provenance": [],
      "toc_visible": true,
      "authorship_tag": "ABX9TyMryu0NCorQQGvknXCq/ozO",
      "include_colab_link": true
    },
    "kernelspec": {
      "name": "python3",
      "display_name": "Python 3"
    },
    "language_info": {
      "name": "python"
    }
  },
  "cells": [
    {
      "cell_type": "markdown",
      "metadata": {
        "id": "view-in-github",
        "colab_type": "text"
      },
      "source": [
        "<a href=\"https://colab.research.google.com/github/fabioalves97/fabioalves97/blob/main/Projeto_de_Redes_CNNs_usando_a_base_de_dados_MNIST.ipynb\" target=\"_parent\"><img src=\"https://colab.research.google.com/assets/colab-badge.svg\" alt=\"Open In Colab\"/></a>"
      ]
    },
    {
      "cell_type": "markdown",
      "source": [
        "\n",
        "\n",
        "--- **Implementação da arquitetura LeNet-5**\n",
        "\n",
        "Nesse projeto fiz a implementação da arquitetura conhecida\n",
        "como LeNet-5, baseada na aula da minha pós graduação referente a Deep Learning (Tema Redes Neurais Convolucionais conhecida também como CNNs). Segue abaixo todo o procedimento que fiz para chegar no melhor resultado do modelo."
      ],
      "metadata": {
        "id": "PUhSK6_TqmX2"
      }
    },
    {
      "cell_type": "markdown",
      "source": [
        "1. **Carregamento dos dados**\n",
        "\n",
        "Para esse projeto utlizamos a base de dados **MNIST** que está disponível na biblioteca **TensorFlow**. Importei o **Tensorflow** e carregamos os dados.\n",
        "\n",
        "Segue o código abaixo:\n"
      ],
      "metadata": {
        "id": "Nl5twRd3ruj7"
      }
    },
    {
      "cell_type": "code",
      "execution_count": 1,
      "metadata": {
        "colab": {
          "base_uri": "https://localhost:8080/"
        },
        "id": "cb3zr-ZLSDfp",
        "outputId": "8e281e1c-2d00-41f4-cb5c-11728961855c"
      },
      "outputs": [
        {
          "output_type": "stream",
          "name": "stdout",
          "text": [
            "Downloading data from https://storage.googleapis.com/tensorflow/tf-keras-datasets/mnist.npz\n",
            "\u001b[1m11490434/11490434\u001b[0m \u001b[32m━━━━━━━━━━━━━━━━━━━━\u001b[0m\u001b[37m\u001b[0m \u001b[1m0s\u001b[0m 0us/step\n"
          ]
        }
      ],
      "source": [
        "import tensorflow as tf\n",
        "(x_treino, y_treino), (x_teste, y_teste) = tf.keras.datasets.mnist.load_data()"
      ]
    },
    {
      "cell_type": "markdown",
      "source": [
        "1.1 Quando carregados os códigos perceba que temos dois pares ordenados:\n",
        "*   Treinamento\n",
        "*   Testes\n",
        "\n",
        "Outro pronto que vale ressaltar é que as variáveis **\"x_treino\"** e **\"x_teste\"** se refere aos **dados das imagens** e **\"y_treino\"** e **\"y_teste\"** os **rótulos das variáveis.**\n",
        "\n",
        "\n",
        "\n"
      ],
      "metadata": {
        "id": "uaU7onlgsuVl"
      }
    },
    {
      "cell_type": "markdown",
      "source": [
        "2. **Visualização dos dados**\n",
        "\n",
        "Para a verificação se tudo ocorreu corretamente, utilizei a biblioteca **matplotlib.pyplot** e imprimi os dados da memória.\n",
        "\n",
        "Segue o código abaixo:\n"
      ],
      "metadata": {
        "id": "Dj9292IUuDoo"
      }
    },
    {
      "cell_type": "code",
      "source": [
        "import matplotlib.pyplot as plt\n",
        "\n",
        "for i in range(5):\n",
        "  plt.subplot(1, 5, i+1)\n",
        "  plt.subplot(1, 5, i+1)\n",
        "  plt.tight_layout()\n",
        "  plt.imshow(x_treino[i].reshape(28, 28), cmap='gray')\n",
        "  plt.title('Rótulo:{}'.format(y_treino[i]))\n",
        "  plt.xticks([])\n",
        "  plt.yticks([])\n",
        "plt.show()"
      ],
      "metadata": {
        "colab": {
          "base_uri": "https://localhost:8080/",
          "height": 141
        },
        "id": "7VzDS1qtTaxq",
        "outputId": "f244acf7-65e3-459d-e9c4-fd53e251ea30"
      },
      "execution_count": 2,
      "outputs": [
        {
          "output_type": "display_data",
          "data": {
            "text/plain": [
              "<Figure size 640x480 with 5 Axes>"
            ],
            "image/png": "[encoded data removed]"
          },
          "metadata": {}
        }
      ]
    },
    {
      "cell_type": "markdown",
      "source": [
        "2.1 Logo após importar o **matplotlib.pyplot**, usei um laço para imprimir os cinco primeiros registros do conjunto de dados de treinamento como visto na imagem acima apos rodar o código."
      ],
      "metadata": {
        "id": "NaGI8DPrv270"
      }
    },
    {
      "cell_type": "markdown",
      "source": [
        "3. **Separação dos conjuntos de dados**\n",
        "\n",
        "Agora organizei os dados em três subconjustos.\n",
        "\n",
        "Que são:\n",
        "*   **Dados de treinamento**:\n",
        "São usados para o modelo extrair as características dos dados e fazer generalizações.\n",
        "*   **Dados de validação**:\n",
        "São usados (ainda na fase de treinamento) para que o modelo possa se ajustar.\n",
        "*  **Dados de testes**:\n",
        "São utiizados para verificarmos a qualidade do modelo para fazer predições.\n",
        "\n",
        "Segue o código abaixo:\n",
        "\n",
        "\n"
      ],
      "metadata": {
        "id": "T_RSfoy5wuwm"
      }
    },
    {
      "cell_type": "code",
      "source": [
        "import numpy as np\n",
        "\n",
        "quantidade_dados_treino = 55000\n",
        "\n",
        "x_validacao = x_treino[quantidade_dados_treino:, ..., np.newaxis]\n",
        "y_validacao = y_treino[quantidade_dados_treino:]\n",
        "x_treino = x_treino[:quantidade_dados_treino, ..., np.newaxis]\n",
        "y_treino = y_treino[:quantidade_dados_treino]\n",
        "\n",
        "x_teste =  x_teste[..., np.newaxis]\n",
        "\n",
        "print('Formato da Imagem:{}'.format(x_treino[0].shape), end = '\\n')\n",
        "print('Conjunto de Treinamento:{} registros'.format(len(x_treino)))\n",
        "print('Conjunto de Validação:{}registros'.format(len(x_validacao)))\n",
        "print('Conjunto de Testes:      {} registros'.format(len(x_teste)))"
      ],
      "metadata": {
        "colab": {
          "base_uri": "https://localhost:8080/"
        },
        "id": "-Ik7JKU2T5KI",
        "outputId": "3f59232c-ebf0-4895-9aca-d95684a2308c"
      },
      "execution_count": 3,
      "outputs": [
        {
          "output_type": "stream",
          "name": "stdout",
          "text": [
            "Formato da Imagem:(28, 28, 1)\n",
            "Conjunto de Treinamento:55000 registros\n",
            "Conjunto de Validação:5000registros\n",
            "Conjunto de Testes:      10000 registros\n"
          ]
        }
      ]
    },
    {
      "cell_type": "markdown",
      "source": [
        "3.1 No início eu importei o pacote **numpy** para realizar a manipulação dos vetores. A MNIST possui o total de **70.000** registros, sendo que **60.000** são para **treinamento** e **10.000** para **testes**. Nesse projeto junto com a aula eu separei os dados em duas partes: **55.000** registros para treinar e **5.000** para validar o modelo. Como visto após rodar o código acima."
      ],
      "metadata": {
        "id": "iDSAVP6QybDE"
      }
    },
    {
      "cell_type": "markdown",
      "source": [
        "4. **Preenchimento (padding) dos dados de entrada**\n",
        "\n",
        "Nesse passo fiz os ajustes nos dados de entrada, pois, a camada de entrada da arquitetura da **LeNet-5** consiste em imagens com as dimensões **32x32**. Como visto no código anterior o formato de imagem gerado da **MNIST** tem o formato de imagem **28x28**. Enfiz o preenchimento com **zeros**, para tornar a dimensão **32x32** e para isso foi utilizado a função **pad** da biblioteca **numpy**\n",
        "\n",
        "Segue o código abaixo:"
      ],
      "metadata": {
        "id": "k1Vacq-_1Igv"
      }
    },
    {
      "cell_type": "code",
      "source": [
        "x_treino = np.pad(x_treino, ((0,0),(2,2),(2,2),(0,0)), 'constant')\n",
        "x_validacao = np.pad(x_validacao, ((0,0),(2,2),(2,2),(0,0)), 'constant')\n",
        "x_teste = np.pad(x_teste, ((0,0),(2,2),(2,2),(0,0)), 'constant')\n",
        "\n",
        "\n",
        "print('Informações sobre as mudanças dos dados de entrada: ', end='\\n\\n')\n",
        "print('Conjunto de treinamento: {}'.format(x_treino.shape))\n",
        "print('Conjunto de Validação: {}'.format(x_validacao.shape))\n",
        "print('Conjunto de Testes: {}'.format(x_teste.shape))"
      ],
      "metadata": {
        "colab": {
          "base_uri": "https://localhost:8080/"
        },
        "id": "0otdxfNBXFhL",
        "outputId": "cc7b104c-2b24-40a9-b70e-d79ae66e91e4"
      },
      "execution_count": 7,
      "outputs": [
        {
          "output_type": "stream",
          "name": "stdout",
          "text": [
            "Informações sobre as mudanças dos dados de entrada: \n",
            "\n",
            "Conjunto de treinamento: (55000, 32, 32, 1)\n",
            "Conjunto de Validação: (5000, 32, 32, 1)\n",
            "Conjunto de Testes: (10000, 32, 32, 1)\n"
          ]
        }
      ]
    },
    {
      "cell_type": "markdown",
      "source": [
        "5. **Normalização dos dados**\n",
        "\n",
        "O **MNIST** tem dados de entrada com escalas de cinza, ou seja, vão de **0 a 255**. Nisso transformei os dados no intervalo de **0 a 1**. Para isso, dividi os valores das variáveis por **255**\n",
        "\n",
        "Segue o código abaixo:"
      ],
      "metadata": {
        "id": "pUs1C5b33uZn"
      }
    },
    {
      "cell_type": "code",
      "source": [
        "normalizar_dados = lambda t: t/255\n",
        "x_treino = normalizar_dados(x_treino)\n",
        "x_validacao = normalizar_dados(x_validacao)\n",
        "x_teste = normalizar_dados(x_teste)"
      ],
      "metadata": {
        "id": "X6taT7njXdph"
      },
      "execution_count": 10,
      "outputs": []
    },
    {
      "cell_type": "markdown",
      "source": [
        "5.1 Utilizei a função **lambda** que recebe o parâmetro **t** de entrada e retorna os valores divididos por **255**"
      ],
      "metadata": {
        "id": "ezYu-OW26lWL"
      }
    },
    {
      "cell_type": "markdown",
      "source": [
        "6. **Arquitetura LeNet**\n",
        "\n",
        "Até esse momento só manipulei os dados de entrada, como carregar, visualizar, separar e fazer os ajustes. Nesse momento agora vamos implementar a arquitewtura da rede de convolução **LeNet-5**.\n",
        "\n",
        "**Lembrando que a LeNet tem 8 camadas: 1 de entrada, 3 de convolução, 2 de aglomeração (pooling) e 2 totalmente conectadas, sendo uma delas a saída.**\n",
        "\n",
        "Importei o pacote **Sequntial** do** tensorflow.keras**, porque, se trata de uma arquitetura de modelo sequencial. Em seguida importei os pacotes para cada camada do modelo.\n",
        "\n",
        "Segue o código abaixo:"
      ],
      "metadata": {
        "id": "u8Uo22by7ULv"
      }
    },
    {
      "cell_type": "code",
      "source": [
        "from tensorflow.keras import Sequential\n",
        "from tensorflow.keras.layers import Conv2D, AveragePooling2D, Flatten, Dense\n",
        "\n",
        "def arquitetura_LeNet_5(funcao_ativacao):\n",
        "     modelo = Sequential()\n",
        "\n",
        "     modelo.add(Conv2D(6, kernel_size=(5, 5),\n",
        "                         strides=(1, 1),\n",
        "                         activation=funcao_ativacao,\n",
        "                         input_shape=(32,32,1),\n",
        "                         padding='valid'))\n",
        "\n",
        "     modelo.add(AveragePooling2D(pool_size=(2, 2),\n",
        "                                 strides=(2, 2),\n",
        "                                 padding='valid'))\n",
        "\n",
        "     modelo.add(Conv2D(16, kernel_size=(5, 5),\n",
        "                         strides=(1, 1),\n",
        "                         activation=funcao_ativacao,\n",
        "                         padding='valid'))\n",
        "\n",
        "     modelo.add(AveragePooling2D(pool_size=(2, 2),\n",
        "                                 strides=(2, 2),\n",
        "                                 padding='valid'))\n",
        "\n",
        "     modelo.add(Conv2D(120, kernel_size=(1, 1),\n",
        "                         strides=(1, 1),\n",
        "                         activation=funcao_ativacao,\n",
        "                         padding='valid'))\n",
        "\n",
        "     modelo.add(Flatten())\n",
        "\n",
        "     modelo.add(Dense(84, activation=funcao_ativacao))\n",
        "\n",
        "     modelo.add(Dense(10, activation='softmax'))\n",
        "\n",
        "     return modelo"
      ],
      "metadata": {
        "id": "-1KpnJEsYobx"
      },
      "execution_count": 11,
      "outputs": []
    },
    {
      "cell_type": "markdown",
      "source": [
        "6.1 Implementei uma função \"**def arquitetura_LeNet_5(funcao_ativacao)**\"\n",
        "Essa função recebe como parâmetro o nome da função de ativação que utilizei nas camadas. Cada trecho do código foi preenchido por **\"modelo.add\"** que é responsável pela implementação de uma camada.\n",
        "\n",
        "Para ficar uma explicação mais clara:\n",
        "\n",
        "\n",
        "\n",
        "*   Conv2D:\n",
        "No caso das camadas de convolução.\n",
        "*   AveragePooling2D:\n",
        "No caso das camadas de aglomeração (pooling).\n",
        "*   Dense:\n",
        "No caso das camadas completamente conectadas.\n",
        "\n",
        "No caso ainda precisava **\"vetorizar\"** a camada de convolução para conectar com a penúltima camada completamente conectada que é dada por **Flatten**\n",
        "\n",
        "O calculo das dimensões é dado pela formula:\n",
        "![imagem_2025-04-21_183623324.png](data:image/png;base64,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)\n"
      ],
      "metadata": {
        "id": "mbBze2l0BN23"
      }
    },
    {
      "cell_type": "markdown",
      "source": [
        "6.2 Assim temos:\n",
        "\n",
        "\n",
        "\n",
        "\n",
        "1.   Camada 1:\n",
        "Recebe uma imagem de dimensões 32 × 32, kernel com dimensões 5 × 5, padding igual a válido – que numericamente é igual a zero – e stride igual a 1. Portanto, temos:\n",
        "\n",
        "![imagem_2025-04-21_183935068.png](data:image/png;base64,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)\n",
        "\n",
        "2. Camada 2\n",
        "Recebe uma entrada de dimensões 28 × 28, kernel com dimensões 2 × 2, padding igual a válido e stride igual a 1. Logo:\n",
        "\n",
        "![imagem_2025-04-21_184047592.png](data:image/png;base64,iVBORw0KGgoAAAANSUhEUgAAAREAAAAzCAIAAAA/5atQAAAAAXNSR0IArs4c6QAADm1JREFUeJztnXlYE9cWwG/IQpZBRFkTATEgQUFA9gKCICjrQwFFLS6oFfcVrIgWqRUXFK0oPvVVn7WKgljxgYqAWIzsyJOioOwSlrBoQlIQsrw/4peXsgeDkTi/jz/ImXPvOTPcM+fcO3cIAijMAjAwMCNGTtoOwMCMM+CYgYERDySQV5O2D5JkgYsdiaRWV98obUe+IBzsLQz0p1VW1w+hQyKqujjZ8AG/rf29uG2/NmQqz5yNCY87vX8mhSxtR74gwkLWXb142M7GdGg1BpMdFLgw4VqMq7OtqFyPrPXPMz+cjQkfYzfHE7ITM7u2rfL1cbmX+uTcxXiBJMDPrSQ3idmcz6IXVJc92Ll1laj+0UM76yvSW2r/6Gh4VvDHzQA/N8n6Y29rlv3oKqMpj91aSHuTGR0VAkGEz2zCf5HrhrVLCovLjpz8RSCh6OskJ8S21VPpddn0uuxf4n4UNGGx2JFR5+Xk5A4d2KJL1hL2cOnK7du/P1ri67Z/T7BknR+/yEhtZmlmdDB8c0c7Y29EjKC6cHW2PfbTrrdvm75dsweNRlvMNnSwM8fjsFnZBQCAk0dCA5d6xV246e2/+Vleift8e2/PubV1tPLXNRLxh6KvExezH41Gr1wf1thIt7SYZWNprK2pcTflsUT6H4kJCCKciQ7D4bCRUedfVVQJJBfO/GBjZXr+UrzbwuDpelP9fFynahEFTWhN9MlKim6u9jgc9sGjp0JDVTVvnRyszM0MCwpLaU10Sfk/fpGRPBPg76ahpvw4O7+84uOgX7rYnYDH3kp6WPKiPGTfiaKSlxgMOsDf3dbaVJesNc/Jpqmp9dS5awCAbGrR3f9kTlCA+pQln8LyxR7a2sTklMfZ1KKDUXFp6TkIBGKBi91Sf/dh296JP52XdePTTaxf42+gT84rKE3LoAokyxa7W5gbvaU1x126CQC4cet+e8d7J0cr9/n2AoUbiamNzXTXebaWZkZCQ5VV9elZueqqk5cHeI72esgUshAzEESwtjDuZLGpOcVC4UwKWUlJMXzPeicHaxaL/aK0gsfjTZqkaGpsQCKq4bDyGhoqQYE+AmV5rDwAoLeXIymXjGdRFCDC5g3LVizzBgA8f/Gqu7uHQMCbGFOGbYtBozEY9LCF3LAmvrEy4QN+Tl6JsImt9WyIgG+htzGYbABAflEpk8maqDjBxtJYoFBZVf+8pFxNZZKzk7WorafPihjMTmuLWRIvL8cjshAzrs42WprqHR2M9Md5QmF1bQOfz2f/1cVisQEA794xORwuComcPEnxSXZBTR1NASJE7t9y9eIRTzcHPx/X1rZ3KQ/+kJRLlVX1HA63u/tDV3c3AKC5uZXD5aBQSKWJEz6PCTOTGQYUMpPJelleLWyiqqIEAODz+IJrwmKxeTw+Go1SU1MW6bYOgUAYGuiJ2kp9mN3eztDQUHFysJCU/+MXlLQdkAD603XweFxzyxvBUBAQsHK3qA6RqIpGoxiMzlcVNQCA6FNXNKM1tKao+/rM8/WZV/G6JuLwWWEN8+ns/P7Yzu+PCT/qTtOSx2C6uz+8rqz7PCbI07SUFBWaW9ryi0qFOqoqkwfsSpOkLvy9srr+Q0/PtKlT+ug0t7RO1SZO19MBIEtSpzBOkYU8owARkEhkY3PrYAqWZkaOcyx5PP7DdGpqWjYA4FleSWZWbnf3Bx6PBwDQJWuvXO4zRoUHBBHcXO3RaFRewYsbt1I+j4lJSopIFLKltV3crlroHWx2F6SAp+jriMppTXQUCqWirCRRx8clshAzExUVUCgkl8sd8CgEEQ7sDSaqq2Rk5ez/8QyLxYYgwvXLR319XGLPX98Xcbq1rQOJlHN1/ubkkZCxcC/maOjMGbrFJa8ifjpHaxyTdaf+JlSUldAolLAMGzlcHpfH4+FxWKL63xZUORyuZGvL8Yss1GZDE3M01MbKJOnuo/DInwXjKWjFQhsrk/TM3OOnr7BY7Nt3H0UfDvVYMMfGyoSiryNceQMAGM7Uuxx3SFNTfYj+GQxWyL7jySkDVywRYRsXes2j5hTv3HtMtGch538+4OPlLCrBoNFIJLKyNFVUWFBU6uW3eXQmhNBb2/tkDwFDpGiY/shCzHC5XD6fP+ChiLCNHvPn/HrjXnjkGTsb03/F/Xgz8QFlug4KiSyvqBLcg2mN9INRZw1n6gpurqLD7s+yNxZzlozasbWrfNesXPQoM2d32DF1VeV7ibFPc0qOnrgkqhO8NTJ4a6SoJOX2OaKGqr3rypGkiMFMcHgDXBN66zsAAA6HFXzUJWuhMSgOh9vxjjHqc/wKkYXajE7v6O3lkDRU+8jDQtatXrHwym93wyPPsFhsi9mGMylkLpf7ntEpJydHIv2/9uBwuHw+v6WlXXTG/ImsWOa9d/e6jKz83WHHaI10AwrZ2IiCxaAl1f/QJmpraT29vX0m/dTcYhb7L0VFBRJRFQCgNYVIwOPevWdkUwuFOmoqkyECnslk9bkUU0hqPT29NFqLBP0fp8hCnql729jT20sg4EWFa1f5bl6/jEDAB61YGLRiIQAAhUQxmJ0NNHp+Uambi523x9yaOlrU8YskouqP+7dOVlL89293xa3+B8PV2TZ8T7CK8iS3+XYLXG0BAEgkksvl1tTRJNL/sCYEU3mMPFq02rx+K9Xb3fEba9PvVvv/8NPZpYvdlCcr/ef+k8wnBcJuB1s8IBBwPb29b+GYkY08U/aysr2DoaamLPr0+rvV/oqKCigUUgEiCH5wOHnB7bO8omZrSFRh0Z/bNwW21VNL8383oEw7GBV34vQVSbm0OXgpiaiKRMpBBLzAOh6HZbO7GmgSWwMY2kTmk9zmlrZJEyfMNPj/jlUWi717X/TTnOItG5a31j/1cnO8k5wRGh4teqeYrqctj8FUvK4VFZqZzNBQV+14x/yz7I2k/B+/yEKeKSp5+aq8ao6duaW5kbCisHQIGKJJNrUom1o0di55+w88X/+cJgqLy2ZQyJbms27/ni4UllfUDN3QeJY+i8XOL/xbYWZhZqQ8eSI1p/hlRfXgTb8WZCHPAAAeplN5PJ6Ls420HZEALfT2JkksZKU8+OM9g+loZzHy506LFy2g6On8t7Siz15SF2cbLoeb+jBbUrXrYEAQYc+utfUV6ffvnJe6obWrfBsrH/dXkIU8AwC48EuCp5uDmcmMxYsW3Ep6IG13PomgDfsl0k9aBvXBI6qvj0vw2sXRpy6PpIn/ovkAgKTkdNHY8F/kamlmWPS87EbCfYk4Nohp1yOROxUnKMjJIeTlMVI3RNHXWbfKT1FRof8hGckzAIDQ8BO0RnrojqABH0F8nYTsO5Ff8GJ9kP9ItmxHhG20tTa5/OudS1duC4UUfZ3dW1c3NbdFRp0fXZLJfXw9OSF2WLWEpDSy4QJlLVvRTaVjwQgNbdsYaDDIy4uyEzPlFTW790VzudztmwKl7cuXgmDSX1lVv2XD0qE1nRysvdznxifeF76dJmBL8HIAQFjE6VGvwqPRaDRqnJUzK5Z5u7naNbe0DXh09Cczb67NvtDvputqs9hdExQIT54W7tp7bIz2hoyQbGqRleMwg+Nro7yixm3h8K9YZj7JNbPz7y/ftOPQ2Pj15QJBhHWr/WiNdCaTJXiQ1YdR5pmN6wKuXjxMIqpt33NE38TjUWaup5vD4Ygdn+wwDIyUiQzfpKWpcSbuN8H+3f6MJs842Fts2xQoL4+J/ef1hKQ0AMCbytreXs5sUwOKvo7WFGLUwe2amuryGEx5RfWWXYcHTOv3EmMtRB6nDAifx7/y2929B2JG4SSMDDN2g8fbw9HbY25axrP4xPuBS70G1BlNzKz61odEVK2poyUlf1z4x+GxcnJyeByWrKO9Y0sgh8Nx9Vp36MAWxzmWPx3c5uK5tn8ng+04hIEZljEaPBBE2LoxsL39/Ymfh3q6LXbMQBDBxEgfgUC8flMr3JShO00LhUIyO9ka6pMoelMbaC0YNDo+8YH5bEOD6TqL/jEv6W76cB2LDbu1cARaMGMFQcW8v7B/BsBhsTpTSc01T0SFv9/L6LMz9UsgZNsqss6U4zGXh94eLnbMmJnOgCA8h8Otrm0QSHTJWhR9HT6fX/rnG3prB4fL1ZyibmY642VFdSeLrTRRUVuL9AknMigD/s1gpEv/DFD0NIHe2j6SdQipM8NAF4fDHgjbcCBsgyDaAQBWFrMaXmecvRgfdfyiQE3smKE1tnR1f+DxeKzOj6v1Pl7OJA3VxqbWa/H30jKowjdJvgvynzABYrHZVdUDvNALz2dgRs0YDR7/b/+2iFX0NIGir5NX8KJPwIsdM5VV9dSc58uXeAqe+AT4uQWvWdzV1X0q9qro+/QQRPDxdMKg0Yl30gZ8Hwuez8CMGukOHsQovksDgggXzkS4ONsgAILH55W9rIyJ/XefwLh49qDH/Dm/xt/bE35Sog7DjDNGWJvZWpvGxoQTNVRwWCwSKcfn8//q6qY10jfvOETNfS5Bf0ZiKOFajIO9OR6HRSAQfD6fweg8de7a8ZiPT3tHEzPDcjYmfIGL3YXLiY+z8nZvX33zdqro1loYe1uzvbvWmsyifH8g5ur1ZGm7M7aMo/nMCJH8poaIsI2+Pi5FxWV6ZC0rc0NjI0p8Yurwzb4OBDcwOYQcFoth/9UlbXc+B03N9PYOprS9kCQSjhlvD8c1KxcpQATHOZYCSX1Dc0MD/HLfRwSzzKX+7jHH9iAQCGm78znw9NskbRckjIRjJjkla7D/wAIDIxvIzr5mGJjPAxwzMDDiAccMDIx4wDEDAyMecMzAwIgHHDMwMOIBxwwMjHjAMQMDIx5jst8MZjBOHgldtsQDhUThcPIAgA8fenp6e6/fTBH9xjKYLxw4ZmBgxAOuzWBgxAOOGRgY8YBjBgZGPOCYgYERDzhmYGDE43+NgFM4fH26RgAAAABJRU5ErkJggg==)\n",
        "3. Camada 3\n",
        "Recebe uma entrada de dimensões 14 × 14, kernel com dimensões 5 × 5, padding igual a válido e stride igual a 1. Então, temos:\n",
        "\n",
        "![imagem_2025-04-21_184151640.png](data:image/png;base64,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)\n",
        "4. Camada 4\n",
        "Recebe uma entrada de dimensões 10 × 10, kernel com dimensões 2 × 2, padding igual a válido e stride igual a 1. Assim:\n",
        "\n",
        "![imagem_2025-04-21_184327836.png](data:image/png;base64,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)\n",
        "\n",
        "\n"
      ],
      "metadata": {
        "id": "D-1yl_GrSI7l"
      }
    },
    {
      "cell_type": "markdown",
      "source": [
        "6.3 Da camada anterior temos 400 (= 5 × 5 × 16) nós com 120 filtros. Conectei os 400 nós da camada anterior a os 84 nós da próxima camada. Assim, tenho uma camada de saída com dez neurônios, pois, **MNIST** possui dez categorias.\n",
        "\n",
        "Vale ressaltar que as categorias dos dados da base **MNIST** é referente aos dígitos 0, 1, 2, 3, 4, 5, 6, 7, 8 e 9."
      ],
      "metadata": {
        "id": "paq6SGHbUM3v"
      }
    },
    {
      "cell_type": "markdown",
      "source": [
        "7. Visualização da arquitetura do modelo\n",
        "\n",
        "Agora montei a arqitetura da nossa implemntação.\n",
        "Chamamos a função **arquitetura_LeNet_5** e no código solicitamos um **resumo do modelo**.\n",
        "\n",
        "Passei o nome **relu** como parâmetro para a função montar a arquitetura do modelo.\n",
        "\n",
        "Segue o código abaixo:"
      ],
      "metadata": {
        "id": "WO9jyaNsVBUt"
      }
    },
    {
      "cell_type": "code",
      "source": [
        "modelo = arquitetura_LeNet_5('relu')\n",
        "modelo.summary()"
      ],
      "metadata": {
        "colab": {
          "base_uri": "https://localhost:8080/",
          "height": 497
        },
        "id": "eJylNtwlagdW",
        "outputId": "eaf45906-559f-4395-b032-17cd1eac8c4a"
      },
      "execution_count": 12,
      "outputs": [
        {
          "output_type": "stream",
          "name": "stderr",
          "text": [
            "/usr/local/lib/python3.11/dist-packages/keras/src/layers/convolutional/base_conv.py:107: UserWarning: Do not pass an `input_shape`/`input_dim` argument to a layer. When using Sequential models, prefer using an `Input(shape)` object as the first layer in the model instead.\n",
            "  super().__init__(activity_regularizer=activity_regularizer, **kwargs)\n"
          ]
        },
        {
          "output_type": "display_data",
          "data": {
            "text/plain": [
              "\u001b[1mModel: \"sequential\"\u001b[0m\n"
            ],
            "text/html": [
              "<pre style=\"white-space:pre;overflow-x:auto;line-height:normal;font-family:Menlo,'DejaVu Sans Mono',consolas,'Courier New',monospace\"><span style=\"font-weight: bold\">Model: \"sequential\"</span>\n",
              "</pre>\n"
            ]
          },
          "metadata": {}
        },
        {
          "output_type": "display_data",
          "data": {
            "text/plain": [
              "┏━━━━━━━━━━━━━━━━━━━━━━━━━━━━━━━━━┳━━━━━━━━━━━━━━━━━━━━━━━━┳━━━━━━━━━━━━━━━┓\n",
              "┃\u001b[1m \u001b[0m\u001b[1mLayer (type)                   \u001b[0m\u001b[1m \u001b[0m┃\u001b[1m \u001b[0m\u001b[1mOutput Shape          \u001b[0m\u001b[1m \u001b[0m┃\u001b[1m \u001b[0m\u001b[1m      Param #\u001b[0m\u001b[1m \u001b[0m┃\n",
              "┡━━━━━━━━━━━━━━━━━━━━━━━━━━━━━━━━━╇━━━━━━━━━━━━━━━━━━━━━━━━╇━━━━━━━━━━━━━━━┩\n",
              "│ conv2d (\u001b[38;5;33mConv2D\u001b[0m)                 │ (\u001b[38;5;45mNone\u001b[0m, \u001b[38;5;34m28\u001b[0m, \u001b[38;5;34m28\u001b[0m, \u001b[38;5;34m6\u001b[0m)      │           \u001b[38;5;34m156\u001b[0m │\n",
              "├─────────────────────────────────┼────────────────────────┼───────────────┤\n",
              "│ average_pooling2d               │ (\u001b[38;5;45mNone\u001b[0m, \u001b[38;5;34m14\u001b[0m, \u001b[38;5;34m14\u001b[0m, \u001b[38;5;34m6\u001b[0m)      │             \u001b[38;5;34m0\u001b[0m │\n",
              "│ (\u001b[38;5;33mAveragePooling2D\u001b[0m)              │                        │               │\n",
              "├─────────────────────────────────┼────────────────────────┼───────────────┤\n",
              "│ conv2d_1 (\u001b[38;5;33mConv2D\u001b[0m)               │ (\u001b[38;5;45mNone\u001b[0m, \u001b[38;5;34m10\u001b[0m, \u001b[38;5;34m10\u001b[0m, \u001b[38;5;34m16\u001b[0m)     │         \u001b[38;5;34m2,416\u001b[0m │\n",
              "├─────────────────────────────────┼────────────────────────┼───────────────┤\n",
              "│ average_pooling2d_1             │ (\u001b[38;5;45mNone\u001b[0m, \u001b[38;5;34m5\u001b[0m, \u001b[38;5;34m5\u001b[0m, \u001b[38;5;34m16\u001b[0m)       │             \u001b[38;5;34m0\u001b[0m │\n",
              "│ (\u001b[38;5;33mAveragePooling2D\u001b[0m)              │                        │               │\n",
              "├─────────────────────────────────┼────────────────────────┼───────────────┤\n",
              "│ conv2d_2 (\u001b[38;5;33mConv2D\u001b[0m)               │ (\u001b[38;5;45mNone\u001b[0m, \u001b[38;5;34m5\u001b[0m, \u001b[38;5;34m5\u001b[0m, \u001b[38;5;34m120\u001b[0m)      │         \u001b[38;5;34m2,040\u001b[0m │\n",
              "├─────────────────────────────────┼────────────────────────┼───────────────┤\n",
              "│ flatten (\u001b[38;5;33mFlatten\u001b[0m)               │ (\u001b[38;5;45mNone\u001b[0m, \u001b[38;5;34m3000\u001b[0m)           │             \u001b[38;5;34m0\u001b[0m │\n",
              "├─────────────────────────────────┼────────────────────────┼───────────────┤\n",
              "│ dense (\u001b[38;5;33mDense\u001b[0m)                   │ (\u001b[38;5;45mNone\u001b[0m, \u001b[38;5;34m84\u001b[0m)             │       \u001b[38;5;34m252,084\u001b[0m │\n",
              "├─────────────────────────────────┼────────────────────────┼───────────────┤\n",
              "│ dense_1 (\u001b[38;5;33mDense\u001b[0m)                 │ (\u001b[38;5;45mNone\u001b[0m, \u001b[38;5;34m10\u001b[0m)             │           \u001b[38;5;34m850\u001b[0m │\n",
              "└─────────────────────────────────┴────────────────────────┴───────────────┘\n"
            ],
            "text/html": [
              "<pre style=\"white-space:pre;overflow-x:auto;line-height:normal;font-family:Menlo,'DejaVu Sans Mono',consolas,'Courier New',monospace\">┏━━━━━━━━━━━━━━━━━━━━━━━━━━━━━━━━━┳━━━━━━━━━━━━━━━━━━━━━━━━┳━━━━━━━━━━━━━━━┓\n",
              "┃<span style=\"font-weight: bold\"> Layer (type)                    </span>┃<span style=\"font-weight: bold\"> Output Shape           </span>┃<span style=\"font-weight: bold\">       Param # </span>┃\n",
              "┡━━━━━━━━━━━━━━━━━━━━━━━━━━━━━━━━━╇━━━━━━━━━━━━━━━━━━━━━━━━╇━━━━━━━━━━━━━━━┩\n",
              "│ conv2d (<span style=\"color: #0087ff; text-decoration-color: #0087ff\">Conv2D</span>)                 │ (<span style=\"color: #00d7ff; text-decoration-color: #00d7ff\">None</span>, <span style=\"color: #00af00; text-decoration-color: #00af00\">28</span>, <span style=\"color: #00af00; text-decoration-color: #00af00\">28</span>, <span style=\"color: #00af00; text-decoration-color: #00af00\">6</span>)      │           <span style=\"color: #00af00; text-decoration-color: #00af00\">156</span> │\n",
              "├─────────────────────────────────┼────────────────────────┼───────────────┤\n",
              "│ average_pooling2d               │ (<span style=\"color: #00d7ff; text-decoration-color: #00d7ff\">None</span>, <span style=\"color: #00af00; text-decoration-color: #00af00\">14</span>, <span style=\"color: #00af00; text-decoration-color: #00af00\">14</span>, <span style=\"color: #00af00; text-decoration-color: #00af00\">6</span>)      │             <span style=\"color: #00af00; text-decoration-color: #00af00\">0</span> │\n",
              "│ (<span style=\"color: #0087ff; text-decoration-color: #0087ff\">AveragePooling2D</span>)              │                        │               │\n",
              "├─────────────────────────────────┼────────────────────────┼───────────────┤\n",
              "│ conv2d_1 (<span style=\"color: #0087ff; text-decoration-color: #0087ff\">Conv2D</span>)               │ (<span style=\"color: #00d7ff; text-decoration-color: #00d7ff\">None</span>, <span style=\"color: #00af00; text-decoration-color: #00af00\">10</span>, <span style=\"color: #00af00; text-decoration-color: #00af00\">10</span>, <span style=\"color: #00af00; text-decoration-color: #00af00\">16</span>)     │         <span style=\"color: #00af00; text-decoration-color: #00af00\">2,416</span> │\n",
              "├─────────────────────────────────┼────────────────────────┼───────────────┤\n",
              "│ average_pooling2d_1             │ (<span style=\"color: #00d7ff; text-decoration-color: #00d7ff\">None</span>, <span style=\"color: #00af00; text-decoration-color: #00af00\">5</span>, <span style=\"color: #00af00; text-decoration-color: #00af00\">5</span>, <span style=\"color: #00af00; text-decoration-color: #00af00\">16</span>)       │             <span style=\"color: #00af00; text-decoration-color: #00af00\">0</span> │\n",
              "│ (<span style=\"color: #0087ff; text-decoration-color: #0087ff\">AveragePooling2D</span>)              │                        │               │\n",
              "├─────────────────────────────────┼────────────────────────┼───────────────┤\n",
              "│ conv2d_2 (<span style=\"color: #0087ff; text-decoration-color: #0087ff\">Conv2D</span>)               │ (<span style=\"color: #00d7ff; text-decoration-color: #00d7ff\">None</span>, <span style=\"color: #00af00; text-decoration-color: #00af00\">5</span>, <span style=\"color: #00af00; text-decoration-color: #00af00\">5</span>, <span style=\"color: #00af00; text-decoration-color: #00af00\">120</span>)      │         <span style=\"color: #00af00; text-decoration-color: #00af00\">2,040</span> │\n",
              "├─────────────────────────────────┼────────────────────────┼───────────────┤\n",
              "│ flatten (<span style=\"color: #0087ff; text-decoration-color: #0087ff\">Flatten</span>)               │ (<span style=\"color: #00d7ff; text-decoration-color: #00d7ff\">None</span>, <span style=\"color: #00af00; text-decoration-color: #00af00\">3000</span>)           │             <span style=\"color: #00af00; text-decoration-color: #00af00\">0</span> │\n",
              "├─────────────────────────────────┼────────────────────────┼───────────────┤\n",
              "│ dense (<span style=\"color: #0087ff; text-decoration-color: #0087ff\">Dense</span>)                   │ (<span style=\"color: #00d7ff; text-decoration-color: #00d7ff\">None</span>, <span style=\"color: #00af00; text-decoration-color: #00af00\">84</span>)             │       <span style=\"color: #00af00; text-decoration-color: #00af00\">252,084</span> │\n",
              "├─────────────────────────────────┼────────────────────────┼───────────────┤\n",
              "│ dense_1 (<span style=\"color: #0087ff; text-decoration-color: #0087ff\">Dense</span>)                 │ (<span style=\"color: #00d7ff; text-decoration-color: #00d7ff\">None</span>, <span style=\"color: #00af00; text-decoration-color: #00af00\">10</span>)             │           <span style=\"color: #00af00; text-decoration-color: #00af00\">850</span> │\n",
              "└─────────────────────────────────┴────────────────────────┴───────────────┘\n",
              "</pre>\n"
            ]
          },
          "metadata": {}
        },
        {
          "output_type": "display_data",
          "data": {
            "text/plain": [
              "\u001b[1m Total params: \u001b[0m\u001b[38;5;34m257,546\u001b[0m (1006.04 KB)\n"
            ],
            "text/html": [
              "<pre style=\"white-space:pre;overflow-x:auto;line-height:normal;font-family:Menlo,'DejaVu Sans Mono',consolas,'Courier New',monospace\"><span style=\"font-weight: bold\"> Total params: </span><span style=\"color: #00af00; text-decoration-color: #00af00\">257,546</span> (1006.04 KB)\n",
              "</pre>\n"
            ]
          },
          "metadata": {}
        },
        {
          "output_type": "display_data",
          "data": {
            "text/plain": [
              "\u001b[1m Trainable params: \u001b[0m\u001b[38;5;34m257,546\u001b[0m (1006.04 KB)\n"
            ],
            "text/html": [
              "<pre style=\"white-space:pre;overflow-x:auto;line-height:normal;font-family:Menlo,'DejaVu Sans Mono',consolas,'Courier New',monospace\"><span style=\"font-weight: bold\"> Trainable params: </span><span style=\"color: #00af00; text-decoration-color: #00af00\">257,546</span> (1006.04 KB)\n",
              "</pre>\n"
            ]
          },
          "metadata": {}
        },
        {
          "output_type": "display_data",
          "data": {
            "text/plain": [
              "\u001b[1m Non-trainable params: \u001b[0m\u001b[38;5;34m0\u001b[0m (0.00 B)\n"
            ],
            "text/html": [
              "<pre style=\"white-space:pre;overflow-x:auto;line-height:normal;font-family:Menlo,'DejaVu Sans Mono',consolas,'Courier New',monospace\"><span style=\"font-weight: bold\"> Non-trainable params: </span><span style=\"color: #00af00; text-decoration-color: #00af00\">0</span> (0.00 B)\n",
              "</pre>\n"
            ]
          },
          "metadata": {}
        }
      ]
    },
    {
      "cell_type": "markdown",
      "source": [
        "8. Treinamento do modelo e Avaliação do modelo\n",
        "\n",
        "Vale ressaltar que nessa parte do treinamento do modelo após a estruturação do mesmo, tive que mudar algumas coisas do código, pois, na minha aula o começo do código estava assim:\n",
        "\n",
        "**from tensorflow.keras.losses import CategoricalCrossentropy**\n",
        "\n",
        " **modelo.compile(loss='sparse_categorical_crossentropy', **\n",
        "                 **optimizer='sgd', metrics=['accuracy'])**\n",
        "\n",
        " **quantidade_de_epocas = 10**\n",
        " **historico_treinamento = modelo.fit(x_treino, y_treino,**\n",
        "                                     **validation_data=(x_validacao,** **y_validacao)**,\n",
        "                                     **batch_size=64,**\n",
        "                                     **epochs=quantidade_de_epocas)**\n",
        "\n",
        "Porém na hora de avaliar o modelo minha accuracy estava dizendo que o meu modelo não estava aprendendo e tinha um loss muito maior que a accuracy como visto abaixo:\n",
        "\n",
        "**loss:2.300063133239746**\n",
        "\n",
        "**accuracy:0.11349999904632568**\n",
        "\n",
        "Então acabei fazendo algumas mudanças. A primeira mudança foi utilizar o otimizador **Adam** ao invés do **SGD**, que converge melhor em muitos casos iniciais. Logo depois mudei a **quantidade_de_epocas** para **20**, pois, o modelo conseguia aprender de uma forma mais calma e não rápida como estava antes com **10**.\n",
        "\n",
        "Com essa mudanças deu para perceber que o aprendizado a partir do **Epoch 2/20**, começou ter uma accuracy maior do que o loss.\n",
        "\n",
        "Segue o código abaixo:\n",
        "\n"
      ],
      "metadata": {
        "id": "X7jJ8TA3WFtP"
      }
    },
    {
      "cell_type": "code",
      "source": [
        "from tensorflow.keras.optimizers import Adam\n",
        "modelo.compile(loss='sparse_categorical_crossentropy', optimizer=Adam(), metrics=['accuracy'])\n",
        "\n",
        "quantidade_de_epocas = 20\n",
        "historico_treinamento = modelo.fit(x_treino, y_treino, validation_data=(x_validacao, y_validacao),batch_size=64, epochs=quantidade_de_epocas)\n",
        " # Salva o modelo\n",
        "modelo.save('modelo_lenet5.keras')"
      ],
      "metadata": {
        "colab": {
          "base_uri": "https://localhost:8080/"
        },
        "id": "EP2VnmanaxbD",
        "outputId": "39bcd90f-6980-4d37-d552-f3bb6a886696"
      },
      "execution_count": 18,
      "outputs": [
        {
          "output_type": "stream",
          "name": "stdout",
          "text": [
            "Epoch 1/20\n",
            "\u001b[1m860/860\u001b[0m \u001b[32m━━━━━━━━━━━━━━━━━━━━\u001b[0m\u001b[37m\u001b[0m \u001b[1m34s\u001b[0m 37ms/step - accuracy: 0.5476 - loss: 1.2894 - val_accuracy: 0.9194 - val_loss: 0.2813\n",
            "Epoch 2/20\n",
            "\u001b[1m860/860\u001b[0m \u001b[32m━━━━━━━━━━━━━━━━━━━━\u001b[0m\u001b[37m\u001b[0m \u001b[1m34s\u001b[0m 39ms/step - accuracy: 0.9015 - loss: 0.3237 - val_accuracy: 0.9444 - val_loss: 0.1861\n",
            "Epoch 3/20\n",
            "\u001b[1m860/860\u001b[0m \u001b[32m━━━━━━━━━━━━━━━━━━━━\u001b[0m\u001b[37m\u001b[0m \u001b[1m40s\u001b[0m 38ms/step - accuracy: 0.9291 - loss: 0.2315 - val_accuracy: 0.9540 - val_loss: 0.1549\n",
            "Epoch 4/20\n",
            "\u001b[1m860/860\u001b[0m \u001b[32m━━━━━━━━━━━━━━━━━━━━\u001b[0m\u001b[37m\u001b[0m \u001b[1m44s\u001b[0m 41ms/step - accuracy: 0.9438 - loss: 0.1832 - val_accuracy: 0.9636 - val_loss: 0.1315\n",
            "Epoch 5/20\n",
            "\u001b[1m860/860\u001b[0m \u001b[32m━━━━━━━━━━━━━━━━━━━━\u001b[0m\u001b[37m\u001b[0m \u001b[1m39s\u001b[0m 39ms/step - accuracy: 0.9531 - loss: 0.1525 - val_accuracy: 0.9642 - val_loss: 0.1231\n",
            "Epoch 6/20\n",
            "\u001b[1m860/860\u001b[0m \u001b[32m━━━━━━━━━━━━━━━━━━━━\u001b[0m\u001b[37m\u001b[0m \u001b[1m41s\u001b[0m 39ms/step - accuracy: 0.9603 - loss: 0.1268 - val_accuracy: 0.9706 - val_loss: 0.1101\n",
            "Epoch 7/20\n",
            "\u001b[1m860/860\u001b[0m \u001b[32m━━━━━━━━━━━━━━━━━━━━\u001b[0m\u001b[37m\u001b[0m \u001b[1m40s\u001b[0m 37ms/step - accuracy: 0.9668 - loss: 0.1085 - val_accuracy: 0.9766 - val_loss: 0.0888\n",
            "Epoch 8/20\n",
            "\u001b[1m860/860\u001b[0m \u001b[32m━━━━━━━━━━━━━━━━━━━━\u001b[0m\u001b[37m\u001b[0m \u001b[1m41s\u001b[0m 37ms/step - accuracy: 0.9711 - loss: 0.0912 - val_accuracy: 0.9754 - val_loss: 0.0945\n",
            "Epoch 9/20\n",
            "\u001b[1m860/860\u001b[0m \u001b[32m━━━━━━━━━━━━━━━━━━━━\u001b[0m\u001b[37m\u001b[0m \u001b[1m43s\u001b[0m 39ms/step - accuracy: 0.9735 - loss: 0.0832 - val_accuracy: 0.9802 - val_loss: 0.0777\n",
            "Epoch 10/20\n",
            "\u001b[1m860/860\u001b[0m \u001b[32m━━━━━━━━━━━━━━━━━━━━\u001b[0m\u001b[37m\u001b[0m \u001b[1m41s\u001b[0m 40ms/step - accuracy: 0.9776 - loss: 0.0728 - val_accuracy: 0.9806 - val_loss: 0.0754\n",
            "Epoch 11/20\n",
            "\u001b[1m860/860\u001b[0m \u001b[32m━━━━━━━━━━━━━━━━━━━━\u001b[0m\u001b[37m\u001b[0m \u001b[1m32s\u001b[0m 37ms/step - accuracy: 0.9788 - loss: 0.0682 - val_accuracy: 0.9810 - val_loss: 0.0760\n",
            "Epoch 12/20\n",
            "\u001b[1m860/860\u001b[0m \u001b[32m━━━━━━━━━━━━━━━━━━━━\u001b[0m\u001b[37m\u001b[0m \u001b[1m43s\u001b[0m 39ms/step - accuracy: 0.9808 - loss: 0.0621 - val_accuracy: 0.9840 - val_loss: 0.0668\n",
            "Epoch 13/20\n",
            "\u001b[1m860/860\u001b[0m \u001b[32m━━━━━━━━━━━━━━━━━━━━\u001b[0m\u001b[37m\u001b[0m \u001b[1m32s\u001b[0m 37ms/step - accuracy: 0.9811 - loss: 0.0564 - val_accuracy: 0.9848 - val_loss: 0.0657\n",
            "Epoch 14/20\n",
            "\u001b[1m860/860\u001b[0m \u001b[32m━━━━━━━━━━━━━━━━━━━━\u001b[0m\u001b[37m\u001b[0m \u001b[1m42s\u001b[0m 39ms/step - accuracy: 0.9832 - loss: 0.0535 - val_accuracy: 0.9838 - val_loss: 0.0634\n",
            "Epoch 15/20\n",
            "\u001b[1m860/860\u001b[0m \u001b[32m━━━━━━━━━━━━━━━━━━━━\u001b[0m\u001b[37m\u001b[0m \u001b[1m32s\u001b[0m 37ms/step - accuracy: 0.9862 - loss: 0.0462 - val_accuracy: 0.9822 - val_loss: 0.0689\n",
            "Epoch 16/20\n",
            "\u001b[1m860/860\u001b[0m \u001b[32m━━━━━━━━━━━━━━━━━━━━\u001b[0m\u001b[37m\u001b[0m \u001b[1m33s\u001b[0m 38ms/step - accuracy: 0.9852 - loss: 0.0446 - val_accuracy: 0.9828 - val_loss: 0.0693\n",
            "Epoch 17/20\n",
            "\u001b[1m860/860\u001b[0m \u001b[32m━━━━━━━━━━━━━━━━━━━━\u001b[0m\u001b[37m\u001b[0m \u001b[1m33s\u001b[0m 38ms/step - accuracy: 0.9863 - loss: 0.0429 - val_accuracy: 0.9832 - val_loss: 0.0670\n",
            "Epoch 18/20\n",
            "\u001b[1m860/860\u001b[0m \u001b[32m━━━━━━━━━━━━━━━━━━━━\u001b[0m\u001b[37m\u001b[0m \u001b[1m43s\u001b[0m 40ms/step - accuracy: 0.9874 - loss: 0.0395 - val_accuracy: 0.9832 - val_loss: 0.0723\n",
            "Epoch 19/20\n",
            "\u001b[1m860/860\u001b[0m \u001b[32m━━━━━━━━━━━━━━━━━━━━\u001b[0m\u001b[37m\u001b[0m \u001b[1m39s\u001b[0m 38ms/step - accuracy: 0.9886 - loss: 0.0327 - val_accuracy: 0.9846 - val_loss: 0.0640\n",
            "Epoch 20/20\n",
            "\u001b[1m860/860\u001b[0m \u001b[32m━━━━━━━━━━━━━━━━━━━━\u001b[0m\u001b[37m\u001b[0m \u001b[1m41s\u001b[0m 38ms/step - accuracy: 0.9891 - loss: 0.0328 - val_accuracy: 0.9850 - val_loss: 0.0641\n"
          ]
        }
      ]
    },
    {
      "cell_type": "markdown",
      "source": [
        "8.1 Vale destacar algumas coisas:\n",
        "\n",
        "\n",
        "*  Os parâmetros de compilação: da função de perda, otimizador e a métrica para validação do modelo.\n",
        "*  No treinamento do modelo, guardei o histórico para analisá-lo posteriormente.\n",
        "*  E salvei o modelo para carrega-lo em outro momento.\n",
        "\n",
        "Sempre é importante armazenar os dadosa de treinamento.\n",
        "\n"
      ],
      "metadata": {
        "id": "kNaJEUFoYmgD"
      }
    },
    {
      "cell_type": "markdown",
      "source": [
        "8.2 Segue agora a Avaliação do modelo após as mudanças que fiz citado acima.\n",
        "\n",
        "Segue o código abaixo:"
      ],
      "metadata": {
        "id": "bLyYqLR_ZQqf"
      }
    },
    {
      "cell_type": "code",
      "source": [
        "loss, accuracy = modelo.evaluate(x_teste, y_teste,batch_size=64);\n",
        "print('loss:{}'.format(loss))\n",
        "print('accuracy:{}'.format(accuracy))"
      ],
      "metadata": {
        "colab": {
          "base_uri": "https://localhost:8080/"
        },
        "id": "xmm9euibeugb",
        "outputId": "9586b608-d536-4a80-aab5-e8a68e07b307"
      },
      "execution_count": 19,
      "outputs": [
        {
          "output_type": "stream",
          "name": "stdout",
          "text": [
            "\u001b[1m157/157\u001b[0m \u001b[32m━━━━━━━━━━━━━━━━━━━━\u001b[0m\u001b[37m\u001b[0m \u001b[1m2s\u001b[0m 16ms/step - accuracy: 0.9773 - loss: 0.0713\n",
            "loss:0.062618687748909\n",
            "accuracy:0.9807999730110168\n"
          ]
        }
      ]
    },
    {
      "cell_type": "markdown",
      "source": [
        "8.3 Dos resultados que tive antes:\n",
        "\n",
        "**loss:2.300063133239746**\n",
        "\n",
        "**accuracy:0.11349999904632568**\n",
        "\n",
        "Agora obtive:\n",
        "\n",
        "**loss:0.062618687748909**\n",
        "\n",
        "**accuracy:0.9807999730110168**\n",
        "\n",
        " isso significa que o meu modelo está acertando **quase 98%** dos dígitos do **MNIST**, o que é excelente!\n",
        "\n",
        " Isso aconteceu por conta:\n",
        "\n",
        "*  Trocar o otimizador para Adam: Ele ajusta a taxa de aprendizado dinamicamente, o que ajuda bastante em tarefas de classificação como o MNIST.\n",
        "*  Mais épocas: Mais tempo para o modelo aprender os padrões dos dados.\n",
        "\n"
      ],
      "metadata": {
        "id": "VEnOXDB9ZcEb"
      }
    },
    {
      "cell_type": "markdown",
      "source": [
        "9. Predição de dados\n",
        "\n",
        "Após o modelo treinado e feita a avaliação da qualidade dele como mostrado acima, agora vamos para a parte de predição de dados. Aqui utilizei um dos dados que foi separado o teste e verificar como o modelo se comportaria.\n",
        "\n",
        "Segue o código abaixo:"
      ],
      "metadata": {
        "id": "rthPwa7Zadi5"
      }
    },
    {
      "cell_type": "code",
      "source": [
        "indice_imagem = 1976\n",
        "\n",
        "predicao = modelo.predict(x_teste[indice_imagem].reshape(1,32,32,1))\n",
        "\n",
        "print('Predição: {}'.format(predicao[0]), end = '\\n\\n')\n",
        "\n",
        "print('Nosso modelo CNN prevê que o dígito na imagem é:', predicao.argmax())\n",
        "plt.imshow(x_teste[indice_imagem].reshape(32,32), cmap='Greys')"
      ],
      "metadata": {
        "colab": {
          "base_uri": "https://localhost:8080/",
          "height": 534
        },
        "id": "Gj1cbnuemtqr",
        "outputId": "25f7e817-0946-4431-9ee1-a0b878a5fce4"
      },
      "execution_count": 21,
      "outputs": [
        {
          "output_type": "stream",
          "name": "stdout",
          "text": [
            "\u001b[1m1/1\u001b[0m \u001b[32m━━━━━━━━━━━━━━━━━━━━\u001b[0m\u001b[37m\u001b[0m \u001b[1m0s\u001b[0m 120ms/step\n",
            "Predição: [5.8082661e-10 9.5780215e-06 6.1667861e-06 9.9944729e-01 2.6850463e-11\n",
            " 1.9397288e-04 1.0805722e-10 8.7469533e-07 2.8165482e-06 3.3937351e-04]\n",
            "\n",
            "Nosso modelo CNN prevê que o dígito na imagem é: 3\n"
          ]
        },
        {
          "output_type": "execute_result",
          "data": {
            "text/plain": [
              "<matplotlib.image.AxesImage at 0x7c9ca6bbd890>"
            ]
          },
          "metadata": {},
          "execution_count": 21
        },
        {
          "output_type": "display_data",
          "data": {
            "text/plain": [
              "<Figure size 640x480 with 1 Axes>"
            ],
            "image/png": "[encoded data removed]"
          },
          "metadata": {}
        }
      ]
    },
    {
      "cell_type": "markdown",
      "source": [
        "9.1 No vetor **4: 9.9944729e-01**, mostra que o modelo tem uma **maior** confiança nessa categoria para fazer a predição de entrada."
      ],
      "metadata": {
        "id": "W3ItcYF4cQQ5"
      }
    },
    {
      "cell_type": "markdown",
      "source": [
        "10. Recuperação do modelo\n",
        "\n",
        "Aqui só para mostrar como recuperar o modelo anteriormente. Utlizamos o nome que salvamos que no caso foi **modelo_lenet5.keras**\n",
        "\n",
        "Segue o código abaixo:"
      ],
      "metadata": {
        "id": "YAM8Xj7DdYn4"
      }
    },
    {
      "cell_type": "code",
      "source": [
        "modelo_recuperado = tf.keras.models.load_model('modelo_lenet5.keras')"
      ],
      "metadata": {
        "id": "Nkq0SrnrdK49"
      },
      "execution_count": 34,
      "outputs": []
    },
    {
      "cell_type": "markdown",
      "source": [
        "11. Impressão do treinamento\n",
        "Agora que já terminei o treinamento do modelo, veremos agora como ele se comportou enquanto estava treinando. Para isso, vou utilizar a varável **historico_treinamento** que utilizei para guardar as informações do histórico do modelo enquanto estava em treinamento.\n",
        "\n",
        "Segue o código abaixo:"
      ],
      "metadata": {
        "id": "x2Fgq7Frd3dr"
      }
    },
    {
      "cell_type": "code",
      "source": [
        "plt.title('Cálculo do Erro ao longo do treinamento')\n",
        "plt.ylabel('Erro')\n",
        "plt.xlabel('Época')\n",
        "\n",
        "plt.plot(historico_treinamento.history['loss'])\n",
        "plt.plot(historico_treinamento.history['val_loss'])\n",
        "plt.legend(['loss (treinamento)', 'val_loss (validação)'], loc='upper right')\n",
        "plt.show()\n"
      ],
      "metadata": {
        "colab": {
          "base_uri": "https://localhost:8080/",
          "height": 474
        },
        "id": "b0oXGQiynrwC",
        "outputId": "3950c1b0-a8e2-430d-d69c-199d88ac2714"
      },
      "execution_count": 24,
      "outputs": [
        {
          "output_type": "display_data",
          "data": {
            "text/plain": [
              "<Figure size 640x480 with 1 Axes>"
            ],
            "image/png": "[encoded data removed]"
          },
          "metadata": {}
        }
      ]
    },
    {
      "cell_type": "markdown",
      "source": [
        "11.1 Vale detalhar abaixo:\n",
        "\n",
        "*  **val_loss:**\n",
        "É o valor da função de custo para os dados de validação cruzada.\n",
        "*   **Perda (loss):**\n",
        "É o valor da função de custo para os dados de treinamento.\n",
        "\n"
      ],
      "metadata": {
        "id": "uczVelXHevTd"
      }
    },
    {
      "cell_type": "markdown",
      "source": [
        "12. Previsões\n",
        "\n",
        "Aqui fiz uma das previsões para o modelo."
      ],
      "metadata": {
        "id": "LgpnGVOzfJs-"
      }
    },
    {
      "cell_type": "code",
      "source": [
        "import numpy as np\n",
        "import matplotlib.pyplot as plt\n",
        "\n",
        "amostra = x_teste[0]\n",
        "plt.imshow(amostra.reshape(32, 32), cmap='gray')\n",
        "plt.title(f\"Classe verdadeira: {y_teste[0]}\")\n",
        "plt.show()\n",
        "\n",
        "previsao = modelo.predict(amostra.reshape(1, 32, 32, 1))\n",
        "print(f\"Classe prevista: {np.argmax(previsao)}\")"
      ],
      "metadata": {
        "colab": {
          "base_uri": "https://localhost:8080/",
          "height": 487
        },
        "id": "NuoiP4BGoV6f",
        "outputId": "6682f537-0401-484f-9ead-c69bc36fa557"
      },
      "execution_count": 35,
      "outputs": [
        {
          "output_type": "display_data",
          "data": {
            "text/plain": [
              "<Figure size 640x480 with 1 Axes>"
            ],
            "image/png": "[encoded data removed]"
          },
          "metadata": {}
        },
        {
          "output_type": "stream",
          "name": "stdout",
          "text": [
            "\u001b[1m1/1\u001b[0m \u001b[32m━━━━━━━━━━━━━━━━━━━━\u001b[0m\u001b[37m\u001b[0m \u001b[1m0s\u001b[0m 79ms/step\n",
            "Classe prevista: 7\n"
          ]
        }
      ]
    },
    {
      "cell_type": "markdown",
      "source": [
        "13. Salvando o modelo novamente"
      ],
      "metadata": {
        "id": "a45z5faJfXVa"
      }
    },
    {
      "cell_type": "code",
      "source": [
        "modelo.save('modelo_mnist_final.keras')\n"
      ],
      "metadata": {
        "id": "nT1P0I_1fOnD"
      },
      "execution_count": 27,
      "outputs": []
    }
  ]
}